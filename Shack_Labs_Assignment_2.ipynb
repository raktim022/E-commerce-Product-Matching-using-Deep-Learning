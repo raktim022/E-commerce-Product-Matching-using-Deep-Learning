{
  "nbformat": 4,
  "nbformat_minor": 0,
  "metadata": {
    "colab": {
      "provenance": []
    },
    "kernelspec": {
      "name": "python3",
      "display_name": "Python 3"
    },
    "language_info": {
      "name": "python"
    },
    "accelerator": "GPU",
    "gpuClass": "standard"
  },
  "cells": [
    {
      "cell_type": "code",
      "execution_count": 1,
      "metadata": {
        "colab": {
          "base_uri": "https://localhost:8080/"
        },
        "id": "ypYQBGWvzTIT",
        "outputId": "bfaebbeb-1f36-4a80-9422-2875f9f6a3b7"
      },
      "outputs": [
        {
          "output_type": "stream",
          "name": "stdout",
          "text": [
            "Drive already mounted at /content/drive/; to attempt to forcibly remount, call drive.mount(\"/content/drive/\", force_remount=True).\n"
          ]
        }
      ],
      "source": [
        "from google.colab import drive\n",
        "drive.mount('/content/drive/')"
      ]
    },
    {
      "cell_type": "markdown",
      "source": [
        "<b>Loading dependencies</b>"
      ],
      "metadata": {
        "id": "7cFZWK9L1NzC"
      }
    },
    {
      "cell_type": "code",
      "source": [
        "import pandas as pd\n",
        "import time\n",
        "df_fkrt=pd.read_csv('/content/drive/My Drive/flipkart_com-ecommerce_sample.csv',encoding=\"ISO-8859-1\")\n",
        "df_amzn=pd.read_csv('/content/drive/My Drive/amz_com-ecommerce_sample.csv',encoding=\"ISO-8859-1\")"
      ],
      "metadata": {
        "id": "lZuaLLJ9zaAV"
      },
      "execution_count": 2,
      "outputs": []
    },
    {
      "cell_type": "code",
      "source": [
        "len(df_fkrt)"
      ],
      "metadata": {
        "colab": {
          "base_uri": "https://localhost:8080/"
        },
        "id": "MUN3NRYFR0yP",
        "outputId": "e5765d24-0d5e-4137-c70c-bb4b4f3fbafa"
      },
      "execution_count": 3,
      "outputs": [
        {
          "output_type": "execute_result",
          "data": {
            "text/plain": [
              "20000"
            ]
          },
          "metadata": {},
          "execution_count": 3
        }
      ]
    },
    {
      "cell_type": "markdown",
      "source": [
        "<b>Data Preprocessing</b>"
      ],
      "metadata": {
        "id": "BRkUivod1VYA"
      }
    },
    {
      "cell_type": "code",
      "source": [
        "df_fkrt.isnull().sum()"
      ],
      "metadata": {
        "colab": {
          "base_uri": "https://localhost:8080/"
        },
        "id": "usSuV6VoRp9l",
        "outputId": "46df6383-217b-47f7-e6d2-929689ee13b1"
      },
      "execution_count": 4,
      "outputs": [
        {
          "output_type": "execute_result",
          "data": {
            "text/plain": [
              "uniq_id                       0\n",
              "crawl_timestamp               0\n",
              "product_url                   0\n",
              "product_name                  0\n",
              "product_category_tree         0\n",
              "pid                           0\n",
              "retail_price                 78\n",
              "discounted_price             78\n",
              "image                         3\n",
              "is_FK_Advantage_product       0\n",
              "description                   2\n",
              "product_rating                0\n",
              "overall_rating                0\n",
              "brand                      5864\n",
              "product_specifications       14\n",
              "dtype: int64"
            ]
          },
          "metadata": {},
          "execution_count": 4
        }
      ]
    },
    {
      "cell_type": "markdown",
      "source": [
        "<b>Removing null values</b>"
      ],
      "metadata": {
        "id": "m426kEPc1dkx"
      }
    },
    {
      "cell_type": "code",
      "source": [
        "df_fkrt=df_fkrt.dropna(subset=[\"retail_price\",\"discounted_price\",\"image\",\"description\",\"product_specifications\",\"brand\"])\n",
        "df_amzn=df_amzn.dropna(subset=[\"retail_price\",\"discounted_price\",\"image\",\"description\",\"product_specifications\",\"brand\"])\n",
        "df_fkrt.reset_index(drop=True,inplace=True)\n",
        "df_amzn.reset_index(drop=True,inplace=True)"
      ],
      "metadata": {
        "id": "TS_geaM5SpOu"
      },
      "execution_count": 5,
      "outputs": []
    },
    {
      "cell_type": "code",
      "source": [
        "df_fkrt.head()"
      ],
      "metadata": {
        "colab": {
          "base_uri": "https://localhost:8080/",
          "height": 530
        },
        "id": "L7yKHrofzzgy",
        "outputId": "be728c84-6197-455f-9546-2b3dda2d395b"
      },
      "execution_count": 6,
      "outputs": [
        {
          "output_type": "execute_result",
          "data": {
            "text/plain": [
              "                            uniq_id            crawl_timestamp  \\\n",
              "0  c2d766ca982eca8304150849735ffef9  2016-03-25 22:59:23 +0000   \n",
              "1  7f7036a6d550aaa89d34c77bd39a5e48  2016-03-25 22:59:23 +0000   \n",
              "2  f449ec65dcbc041b6ae5e6a32717d01b  2016-03-25 22:59:23 +0000   \n",
              "3  0973b37acd0c664e3de26e97e5571454  2016-03-25 22:59:23 +0000   \n",
              "4  bc940ea42ee6bef5ac7cea3fb5cfbee7  2016-03-25 22:59:23 +0000   \n",
              "\n",
              "                                         product_url  \\\n",
              "0  http://www.flipkart.com/alisha-solid-women-s-c...   \n",
              "1  http://www.flipkart.com/fabhomedecor-fabric-do...   \n",
              "2  http://www.flipkart.com/aw-bellies/p/itmeh4grg...   \n",
              "3  http://www.flipkart.com/alisha-solid-women-s-c...   \n",
              "4  http://www.flipkart.com/sicons-all-purpose-arn...   \n",
              "\n",
              "                            product_name  \\\n",
              "0    Alisha Solid Women's Cycling Shorts   \n",
              "1    FabHomeDecor Fabric Double Sofa Bed   \n",
              "2                             AW Bellies   \n",
              "3    Alisha Solid Women's Cycling Shorts   \n",
              "4  Sicons All Purpose Arnica Dog Shampoo   \n",
              "\n",
              "                               product_category_tree               pid  \\\n",
              "0  [\"Clothing >> Women's Clothing >> Lingerie, Sl...  SRTEH2FF9KEDEFGF   \n",
              "1  [\"Furniture >> Living Room Furniture >> Sofa B...  SBEEH3QGU7MFYJFY   \n",
              "2  [\"Footwear >> Women's Footwear >> Ballerinas >...  SHOEH4GRSUBJGZXE   \n",
              "3  [\"Clothing >> Women's Clothing >> Lingerie, Sl...  SRTEH2F6HUZMQ6SJ   \n",
              "4  [\"Pet Supplies >> Grooming >> Skin & Coat Care...  PSOEH3ZYDMSYARJ5   \n",
              "\n",
              "   retail_price  discounted_price  \\\n",
              "0         999.0             379.0   \n",
              "1       32157.0           22646.0   \n",
              "2         999.0             499.0   \n",
              "3         699.0             267.0   \n",
              "4         220.0             210.0   \n",
              "\n",
              "                                               image  is_FK_Advantage_product  \\\n",
              "0  [\"http://img5a.flixcart.com/image/short/u/4/a/...                    False   \n",
              "1  [\"http://img6a.flixcart.com/image/sofa-bed/j/f...                    False   \n",
              "2  [\"http://img5a.flixcart.com/image/shoe/7/z/z/r...                    False   \n",
              "3  [\"http://img5a.flixcart.com/image/short/6/2/h/...                    False   \n",
              "4  [\"http://img5a.flixcart.com/image/pet-shampoo/...                    False   \n",
              "\n",
              "                                         description       product_rating  \\\n",
              "0  Key Features of Alisha Solid Women's Cycling S...  No rating available   \n",
              "1  FabHomeDecor Fabric Double Sofa Bed (Finish Co...  No rating available   \n",
              "2  Key Features of AW Bellies Sandals Wedges Heel...  No rating available   \n",
              "3  Key Features of Alisha Solid Women's Cycling S...  No rating available   \n",
              "4  Specifications of Sicons All Purpose Arnica Do...  No rating available   \n",
              "\n",
              "        overall_rating         brand  \\\n",
              "0  No rating available        Alisha   \n",
              "1  No rating available  FabHomeDecor   \n",
              "2  No rating available            AW   \n",
              "3  No rating available        Alisha   \n",
              "4  No rating available        Sicons   \n",
              "\n",
              "                              product_specifications  \n",
              "0  {\"product_specification\"=>[{\"key\"=>\"Number of ...  \n",
              "1  {\"product_specification\"=>[{\"key\"=>\"Installati...  \n",
              "2  {\"product_specification\"=>[{\"key\"=>\"Ideal For\"...  \n",
              "3  {\"product_specification\"=>[{\"key\"=>\"Number of ...  \n",
              "4  {\"product_specification\"=>[{\"key\"=>\"Pet Type\",...  "
            ],
            "text/html": [
              "\n",
              "  <div id=\"df-8f0c38b0-823b-48a3-9850-eef356e3842d\">\n",
              "    <div class=\"colab-df-container\">\n",
              "      <div>\n",
              "<style scoped>\n",
              "    .dataframe tbody tr th:only-of-type {\n",
              "        vertical-align: middle;\n",
              "    }\n",
              "\n",
              "    .dataframe tbody tr th {\n",
              "        vertical-align: top;\n",
              "    }\n",
              "\n",
              "    .dataframe thead th {\n",
              "        text-align: right;\n",
              "    }\n",
              "</style>\n",
              "<table border=\"1\" class=\"dataframe\">\n",
              "  <thead>\n",
              "    <tr style=\"text-align: right;\">\n",
              "      <th></th>\n",
              "      <th>uniq_id</th>\n",
              "      <th>crawl_timestamp</th>\n",
              "      <th>product_url</th>\n",
              "      <th>product_name</th>\n",
              "      <th>product_category_tree</th>\n",
              "      <th>pid</th>\n",
              "      <th>retail_price</th>\n",
              "      <th>discounted_price</th>\n",
              "      <th>image</th>\n",
              "      <th>is_FK_Advantage_product</th>\n",
              "      <th>description</th>\n",
              "      <th>product_rating</th>\n",
              "      <th>overall_rating</th>\n",
              "      <th>brand</th>\n",
              "      <th>product_specifications</th>\n",
              "    </tr>\n",
              "  </thead>\n",
              "  <tbody>\n",
              "    <tr>\n",
              "      <th>0</th>\n",
              "      <td>c2d766ca982eca8304150849735ffef9</td>\n",
              "      <td>2016-03-25 22:59:23 +0000</td>\n",
              "      <td>http://www.flipkart.com/alisha-solid-women-s-c...</td>\n",
              "      <td>Alisha Solid Women's Cycling Shorts</td>\n",
              "      <td>[\"Clothing &gt;&gt; Women's Clothing &gt;&gt; Lingerie, Sl...</td>\n",
              "      <td>SRTEH2FF9KEDEFGF</td>\n",
              "      <td>999.0</td>\n",
              "      <td>379.0</td>\n",
              "      <td>[\"http://img5a.flixcart.com/image/short/u/4/a/...</td>\n",
              "      <td>False</td>\n",
              "      <td>Key Features of Alisha Solid Women's Cycling S...</td>\n",
              "      <td>No rating available</td>\n",
              "      <td>No rating available</td>\n",
              "      <td>Alisha</td>\n",
              "      <td>{\"product_specification\"=&gt;[{\"key\"=&gt;\"Number of ...</td>\n",
              "    </tr>\n",
              "    <tr>\n",
              "      <th>1</th>\n",
              "      <td>7f7036a6d550aaa89d34c77bd39a5e48</td>\n",
              "      <td>2016-03-25 22:59:23 +0000</td>\n",
              "      <td>http://www.flipkart.com/fabhomedecor-fabric-do...</td>\n",
              "      <td>FabHomeDecor Fabric Double Sofa Bed</td>\n",
              "      <td>[\"Furniture &gt;&gt; Living Room Furniture &gt;&gt; Sofa B...</td>\n",
              "      <td>SBEEH3QGU7MFYJFY</td>\n",
              "      <td>32157.0</td>\n",
              "      <td>22646.0</td>\n",
              "      <td>[\"http://img6a.flixcart.com/image/sofa-bed/j/f...</td>\n",
              "      <td>False</td>\n",
              "      <td>FabHomeDecor Fabric Double Sofa Bed (Finish Co...</td>\n",
              "      <td>No rating available</td>\n",
              "      <td>No rating available</td>\n",
              "      <td>FabHomeDecor</td>\n",
              "      <td>{\"product_specification\"=&gt;[{\"key\"=&gt;\"Installati...</td>\n",
              "    </tr>\n",
              "    <tr>\n",
              "      <th>2</th>\n",
              "      <td>f449ec65dcbc041b6ae5e6a32717d01b</td>\n",
              "      <td>2016-03-25 22:59:23 +0000</td>\n",
              "      <td>http://www.flipkart.com/aw-bellies/p/itmeh4grg...</td>\n",
              "      <td>AW Bellies</td>\n",
              "      <td>[\"Footwear &gt;&gt; Women's Footwear &gt;&gt; Ballerinas &gt;...</td>\n",
              "      <td>SHOEH4GRSUBJGZXE</td>\n",
              "      <td>999.0</td>\n",
              "      <td>499.0</td>\n",
              "      <td>[\"http://img5a.flixcart.com/image/shoe/7/z/z/r...</td>\n",
              "      <td>False</td>\n",
              "      <td>Key Features of AW Bellies Sandals Wedges Heel...</td>\n",
              "      <td>No rating available</td>\n",
              "      <td>No rating available</td>\n",
              "      <td>AW</td>\n",
              "      <td>{\"product_specification\"=&gt;[{\"key\"=&gt;\"Ideal For\"...</td>\n",
              "    </tr>\n",
              "    <tr>\n",
              "      <th>3</th>\n",
              "      <td>0973b37acd0c664e3de26e97e5571454</td>\n",
              "      <td>2016-03-25 22:59:23 +0000</td>\n",
              "      <td>http://www.flipkart.com/alisha-solid-women-s-c...</td>\n",
              "      <td>Alisha Solid Women's Cycling Shorts</td>\n",
              "      <td>[\"Clothing &gt;&gt; Women's Clothing &gt;&gt; Lingerie, Sl...</td>\n",
              "      <td>SRTEH2F6HUZMQ6SJ</td>\n",
              "      <td>699.0</td>\n",
              "      <td>267.0</td>\n",
              "      <td>[\"http://img5a.flixcart.com/image/short/6/2/h/...</td>\n",
              "      <td>False</td>\n",
              "      <td>Key Features of Alisha Solid Women's Cycling S...</td>\n",
              "      <td>No rating available</td>\n",
              "      <td>No rating available</td>\n",
              "      <td>Alisha</td>\n",
              "      <td>{\"product_specification\"=&gt;[{\"key\"=&gt;\"Number of ...</td>\n",
              "    </tr>\n",
              "    <tr>\n",
              "      <th>4</th>\n",
              "      <td>bc940ea42ee6bef5ac7cea3fb5cfbee7</td>\n",
              "      <td>2016-03-25 22:59:23 +0000</td>\n",
              "      <td>http://www.flipkart.com/sicons-all-purpose-arn...</td>\n",
              "      <td>Sicons All Purpose Arnica Dog Shampoo</td>\n",
              "      <td>[\"Pet Supplies &gt;&gt; Grooming &gt;&gt; Skin &amp; Coat Care...</td>\n",
              "      <td>PSOEH3ZYDMSYARJ5</td>\n",
              "      <td>220.0</td>\n",
              "      <td>210.0</td>\n",
              "      <td>[\"http://img5a.flixcart.com/image/pet-shampoo/...</td>\n",
              "      <td>False</td>\n",
              "      <td>Specifications of Sicons All Purpose Arnica Do...</td>\n",
              "      <td>No rating available</td>\n",
              "      <td>No rating available</td>\n",
              "      <td>Sicons</td>\n",
              "      <td>{\"product_specification\"=&gt;[{\"key\"=&gt;\"Pet Type\",...</td>\n",
              "    </tr>\n",
              "  </tbody>\n",
              "</table>\n",
              "</div>\n",
              "      <button class=\"colab-df-convert\" onclick=\"convertToInteractive('df-8f0c38b0-823b-48a3-9850-eef356e3842d')\"\n",
              "              title=\"Convert this dataframe to an interactive table.\"\n",
              "              style=\"display:none;\">\n",
              "        \n",
              "  <svg xmlns=\"http://www.w3.org/2000/svg\" height=\"24px\"viewBox=\"0 0 24 24\"\n",
              "       width=\"24px\">\n",
              "    <path d=\"M0 0h24v24H0V0z\" fill=\"none\"/>\n",
              "    <path d=\"M18.56 5.44l.94 2.06.94-2.06 2.06-.94-2.06-.94-.94-2.06-.94 2.06-2.06.94zm-11 1L8.5 8.5l.94-2.06 2.06-.94-2.06-.94L8.5 2.5l-.94 2.06-2.06.94zm10 10l.94 2.06.94-2.06 2.06-.94-2.06-.94-.94-2.06-.94 2.06-2.06.94z\"/><path d=\"M17.41 7.96l-1.37-1.37c-.4-.4-.92-.59-1.43-.59-.52 0-1.04.2-1.43.59L10.3 9.45l-7.72 7.72c-.78.78-.78 2.05 0 2.83L4 21.41c.39.39.9.59 1.41.59.51 0 1.02-.2 1.41-.59l7.78-7.78 2.81-2.81c.8-.78.8-2.07 0-2.86zM5.41 20L4 18.59l7.72-7.72 1.47 1.35L5.41 20z\"/>\n",
              "  </svg>\n",
              "      </button>\n",
              "      \n",
              "  <style>\n",
              "    .colab-df-container {\n",
              "      display:flex;\n",
              "      flex-wrap:wrap;\n",
              "      gap: 12px;\n",
              "    }\n",
              "\n",
              "    .colab-df-convert {\n",
              "      background-color: #E8F0FE;\n",
              "      border: none;\n",
              "      border-radius: 50%;\n",
              "      cursor: pointer;\n",
              "      display: none;\n",
              "      fill: #1967D2;\n",
              "      height: 32px;\n",
              "      padding: 0 0 0 0;\n",
              "      width: 32px;\n",
              "    }\n",
              "\n",
              "    .colab-df-convert:hover {\n",
              "      background-color: #E2EBFA;\n",
              "      box-shadow: 0px 1px 2px rgba(60, 64, 67, 0.3), 0px 1px 3px 1px rgba(60, 64, 67, 0.15);\n",
              "      fill: #174EA6;\n",
              "    }\n",
              "\n",
              "    [theme=dark] .colab-df-convert {\n",
              "      background-color: #3B4455;\n",
              "      fill: #D2E3FC;\n",
              "    }\n",
              "\n",
              "    [theme=dark] .colab-df-convert:hover {\n",
              "      background-color: #434B5C;\n",
              "      box-shadow: 0px 1px 3px 1px rgba(0, 0, 0, 0.15);\n",
              "      filter: drop-shadow(0px 1px 2px rgba(0, 0, 0, 0.3));\n",
              "      fill: #FFFFFF;\n",
              "    }\n",
              "  </style>\n",
              "\n",
              "      <script>\n",
              "        const buttonEl =\n",
              "          document.querySelector('#df-8f0c38b0-823b-48a3-9850-eef356e3842d button.colab-df-convert');\n",
              "        buttonEl.style.display =\n",
              "          google.colab.kernel.accessAllowed ? 'block' : 'none';\n",
              "\n",
              "        async function convertToInteractive(key) {\n",
              "          const element = document.querySelector('#df-8f0c38b0-823b-48a3-9850-eef356e3842d');\n",
              "          const dataTable =\n",
              "            await google.colab.kernel.invokeFunction('convertToInteractive',\n",
              "                                                     [key], {});\n",
              "          if (!dataTable) return;\n",
              "\n",
              "          const docLinkHtml = 'Like what you see? Visit the ' +\n",
              "            '<a target=\"_blank\" href=https://colab.research.google.com/notebooks/data_table.ipynb>data table notebook</a>'\n",
              "            + ' to learn more about interactive tables.';\n",
              "          element.innerHTML = '';\n",
              "          dataTable['output_type'] = 'display_data';\n",
              "          await google.colab.output.renderOutput(dataTable, element);\n",
              "          const docLink = document.createElement('div');\n",
              "          docLink.innerHTML = docLinkHtml;\n",
              "          element.appendChild(docLink);\n",
              "        }\n",
              "      </script>\n",
              "    </div>\n",
              "  </div>\n",
              "  "
            ]
          },
          "metadata": {},
          "execution_count": 6
        }
      ]
    },
    {
      "cell_type": "code",
      "source": [
        "#Splitting the product categories into separate entities for filtering\n",
        "import re\n",
        "for i in range(len(df_fkrt)):\n",
        "  a=df_fkrt.loc[i,\"product_category_tree\"].split(\">>\")\n",
        "  tags=[re.sub(\"[^a-zA-Z]+\",\" \",i).strip() for i in a]\n",
        "  df_fkrt.loc[i,\"product_category_1\"]=tags[0]\n",
        "  try:\n",
        "    df_fkrt.loc[i,\"product_category_2\"]=tags[1]\n",
        "  except:\n",
        "    df_fkrt.loc[i,\"product_category_2\"]=\" \"\n",
        "  try:\n",
        "    df_fkrt.loc[i,\"product_category_3\"]=tags[2:]\n",
        "  except:\n",
        "    df_fkrt.loc[i,\"product_category_3\"]=\" \"\n"
      ],
      "metadata": {
        "id": "iCKVhWyFpGal",
        "colab": {
          "base_uri": "https://localhost:8080/"
        },
        "outputId": "aaa4b951-4924-41cc-defa-3a5365e28139"
      },
      "execution_count": 7,
      "outputs": [
        {
          "output_type": "stream",
          "name": "stderr",
          "text": [
            "/usr/local/lib/python3.7/dist-packages/pandas/core/indexing.py:1684: SettingWithCopyWarning: \n",
            "A value is trying to be set on a copy of a slice from a DataFrame.\n",
            "Try using .loc[row_indexer,col_indexer] = value instead\n",
            "\n",
            "See the caveats in the documentation: https://pandas.pydata.org/pandas-docs/stable/user_guide/indexing.html#returning-a-view-versus-a-copy\n",
            "  self.obj[key] = infer_fill_value(value)\n",
            "/usr/local/lib/python3.7/dist-packages/pandas/core/indexing.py:1817: SettingWithCopyWarning: \n",
            "A value is trying to be set on a copy of a slice from a DataFrame.\n",
            "Try using .loc[row_indexer,col_indexer] = value instead\n",
            "\n",
            "See the caveats in the documentation: https://pandas.pydata.org/pandas-docs/stable/user_guide/indexing.html#returning-a-view-versus-a-copy\n",
            "  self._setitem_single_column(loc, value, pi)\n",
            "/usr/local/lib/python3.7/dist-packages/pandas/core/indexing.py:1797: SettingWithCopyWarning: \n",
            "A value is trying to be set on a copy of a slice from a DataFrame.\n",
            "Try using .loc[row_indexer,col_indexer] = value instead\n",
            "\n",
            "See the caveats in the documentation: https://pandas.pydata.org/pandas-docs/stable/user_guide/indexing.html#returning-a-view-versus-a-copy\n",
            "  self._setitem_single_column(loc, v, pi)\n"
          ]
        }
      ]
    },
    {
      "cell_type": "code",
      "source": [
        "#Dropping irrelevant columns\n",
        "df_fkrt=df_fkrt.drop([\"product_category_tree\",\"uniq_id\",\"crawl_timestamp\",\"product_url\",\"pid\",\"is_FK_Advantage_product\",\"overall_rating\",\"product_rating\"],axis=1)"
      ],
      "metadata": {
        "id": "wKFuf14-27qr"
      },
      "execution_count": 8,
      "outputs": []
    },
    {
      "cell_type": "code",
      "source": [
        "#Splitting the product categories into separate entities for filtering\n",
        "for i in range(len(df_amzn)):\n",
        "  a=df_amzn.loc[i,\"product_category_tree\"].split(\">>\")\n",
        "  tags=[re.sub(\"[^a-zA-Z]+\",\" \",i).strip() for i in a]\n",
        "  df_amzn.loc[i,\"product_category_1\"]=tags[0]\n",
        "  try:\n",
        "    df_amzn.loc[i,\"product_category_2\"]=tags[1]\n",
        "  except:\n",
        "    df_amzn.loc[i,\"product_category_2\"]=\" \"\n",
        "  try:\n",
        "    df_amzn.loc[i,\"product_category_3\"]=\",\".join(tags[2:])\n",
        "  except:\n",
        "    df_amzn.loc[i,\"product_category_3\"]=\" \"\n"
      ],
      "metadata": {
        "id": "jjqNoxIl2mvG"
      },
      "execution_count": 9,
      "outputs": []
    },
    {
      "cell_type": "code",
      "source": [
        "#Dropping irrelevant columns\n",
        "df_amzn=df_amzn.drop([\"product_category_tree\",\"uniq_id\",\"crawl_timestamp\",\"product_url\",\"pid\",\"is_FK_Advantage_product\",\"overall_rating\",\"product_rating\"],axis=1)"
      ],
      "metadata": {
        "id": "_pDK0YF7rNJA"
      },
      "execution_count": 10,
      "outputs": []
    },
    {
      "cell_type": "code",
      "source": [
        "#sorting the datasets by product categories for more efficient calculations\n",
        "df_fkrt=df_fkrt.sort_values(by=[\"product_category_1\",\"product_category_2\",\"product_category_3\"])\n",
        "df_amzn=df_amzn.sort_values(by=[\"product_category_1\",\"product_category_2\",\"product_category_3\"])"
      ],
      "metadata": {
        "id": "wl2FKELJrTva"
      },
      "execution_count": 11,
      "outputs": []
    },
    {
      "cell_type": "markdown",
      "source": [
        "<h1><b>Approach 1</b></h1>"
      ],
      "metadata": {
        "id": "KTtQ_N-26GvV"
      }
    },
    {
      "cell_type": "code",
      "source": [
        "!pip install sentence_transformers"
      ],
      "metadata": {
        "colab": {
          "base_uri": "https://localhost:8080/"
        },
        "id": "YSFL6RK3s0gU",
        "outputId": "3b1d163c-81aa-4b7b-9461-7f2efcd73a09"
      },
      "execution_count": null,
      "outputs": [
        {
          "output_type": "stream",
          "name": "stdout",
          "text": [
            "Looking in indexes: https://pypi.org/simple, https://us-python.pkg.dev/colab-wheels/public/simple/\n",
            "Requirement already satisfied: sentence_transformers in /usr/local/lib/python3.7/dist-packages (2.2.2)\n",
            "Requirement already satisfied: transformers<5.0.0,>=4.6.0 in /usr/local/lib/python3.7/dist-packages (from sentence_transformers) (4.24.0)\n",
            "Requirement already satisfied: torchvision in /usr/local/lib/python3.7/dist-packages (from sentence_transformers) (0.13.1+cu113)\n",
            "Requirement already satisfied: scipy in /usr/local/lib/python3.7/dist-packages (from sentence_transformers) (1.7.3)\n",
            "Requirement already satisfied: torch>=1.6.0 in /usr/local/lib/python3.7/dist-packages (from sentence_transformers) (1.12.1+cu113)\n",
            "Requirement already satisfied: nltk in /usr/local/lib/python3.7/dist-packages (from sentence_transformers) (3.7)\n",
            "Requirement already satisfied: scikit-learn in /usr/local/lib/python3.7/dist-packages (from sentence_transformers) (1.0.2)\n",
            "Requirement already satisfied: tqdm in /usr/local/lib/python3.7/dist-packages (from sentence_transformers) (4.64.1)\n",
            "Requirement already satisfied: sentencepiece in /usr/local/lib/python3.7/dist-packages (from sentence_transformers) (0.1.97)\n",
            "Requirement already satisfied: huggingface-hub>=0.4.0 in /usr/local/lib/python3.7/dist-packages (from sentence_transformers) (0.11.1)\n",
            "Requirement already satisfied: numpy in /usr/local/lib/python3.7/dist-packages (from sentence_transformers) (1.21.6)\n",
            "Requirement already satisfied: typing-extensions>=3.7.4.3 in /usr/local/lib/python3.7/dist-packages (from huggingface-hub>=0.4.0->sentence_transformers) (4.1.1)\n",
            "Requirement already satisfied: filelock in /usr/local/lib/python3.7/dist-packages (from huggingface-hub>=0.4.0->sentence_transformers) (3.8.0)\n",
            "Requirement already satisfied: requests in /usr/local/lib/python3.7/dist-packages (from huggingface-hub>=0.4.0->sentence_transformers) (2.23.0)\n",
            "Requirement already satisfied: importlib-metadata in /usr/local/lib/python3.7/dist-packages (from huggingface-hub>=0.4.0->sentence_transformers) (4.13.0)\n",
            "Requirement already satisfied: pyyaml>=5.1 in /usr/local/lib/python3.7/dist-packages (from huggingface-hub>=0.4.0->sentence_transformers) (6.0)\n",
            "Requirement already satisfied: packaging>=20.9 in /usr/local/lib/python3.7/dist-packages (from huggingface-hub>=0.4.0->sentence_transformers) (21.3)\n",
            "Requirement already satisfied: pyparsing!=3.0.5,>=2.0.2 in /usr/local/lib/python3.7/dist-packages (from packaging>=20.9->huggingface-hub>=0.4.0->sentence_transformers) (3.0.9)\n",
            "Requirement already satisfied: tokenizers!=0.11.3,<0.14,>=0.11.1 in /usr/local/lib/python3.7/dist-packages (from transformers<5.0.0,>=4.6.0->sentence_transformers) (0.13.2)\n",
            "Requirement already satisfied: regex!=2019.12.17 in /usr/local/lib/python3.7/dist-packages (from transformers<5.0.0,>=4.6.0->sentence_transformers) (2022.6.2)\n",
            "Requirement already satisfied: zipp>=0.5 in /usr/local/lib/python3.7/dist-packages (from importlib-metadata->huggingface-hub>=0.4.0->sentence_transformers) (3.10.0)\n",
            "Requirement already satisfied: click in /usr/local/lib/python3.7/dist-packages (from nltk->sentence_transformers) (7.1.2)\n",
            "Requirement already satisfied: joblib in /usr/local/lib/python3.7/dist-packages (from nltk->sentence_transformers) (1.2.0)\n",
            "Requirement already satisfied: chardet<4,>=3.0.2 in /usr/local/lib/python3.7/dist-packages (from requests->huggingface-hub>=0.4.0->sentence_transformers) (3.0.4)\n",
            "Requirement already satisfied: urllib3!=1.25.0,!=1.25.1,<1.26,>=1.21.1 in /usr/local/lib/python3.7/dist-packages (from requests->huggingface-hub>=0.4.0->sentence_transformers) (1.24.3)\n",
            "Requirement already satisfied: certifi>=2017.4.17 in /usr/local/lib/python3.7/dist-packages (from requests->huggingface-hub>=0.4.0->sentence_transformers) (2022.9.24)\n",
            "Requirement already satisfied: idna<3,>=2.5 in /usr/local/lib/python3.7/dist-packages (from requests->huggingface-hub>=0.4.0->sentence_transformers) (2.10)\n",
            "Requirement already satisfied: threadpoolctl>=2.0.0 in /usr/local/lib/python3.7/dist-packages (from scikit-learn->sentence_transformers) (3.1.0)\n",
            "Requirement already satisfied: pillow!=8.3.*,>=5.3.0 in /usr/local/lib/python3.7/dist-packages (from torchvision->sentence_transformers) (7.1.2)\n"
          ]
        }
      ]
    },
    {
      "cell_type": "markdown",
      "source": [
        "<b>Product matching via Word Embeddings and Cosine Similarity</b>"
      ],
      "metadata": {
        "id": "QFXXTJn42syF"
      }
    },
    {
      "cell_type": "code",
      "source": [
        "#Using Sentence Transformer to get the word embeddings of the Product descriptions\n",
        "from sentence_transformers import SentenceTransformer\n",
        "from sklearn.metrics.pairwise import cosine_similarity\n",
        "import numpy as np\n",
        "model = SentenceTransformer('sentence-transformers/all-MiniLM-L12-v2')"
      ],
      "metadata": {
        "id": "WaL-3LgBs2R9"
      },
      "execution_count": null,
      "outputs": []
    },
    {
      "cell_type": "code",
      "source": [
        "#Word embeddings\n",
        "embeddings=model.encode(df_amzn[\"description\"])"
      ],
      "metadata": {
        "id": "UYvNZo4IB7nJ"
      },
      "execution_count": null,
      "outputs": []
    },
    {
      "cell_type": "code",
      "source": [
        "#Result dataframe\n",
        "res=pd.DataFrame(columns=[\"Product name in Flipkart\",\"Retail Price in Flipkart\",\"Discounted price in Flipkart\",\n",
        "                          \"Product name in Amazon\",\"Retail Price in Amazon\",\"Discounted price in Amazon\"])"
      ],
      "metadata": {
        "id": "UVawlRBjQBC7"
      },
      "execution_count": null,
      "outputs": []
    },
    {
      "cell_type": "code",
      "source": [
        "#Index of result rows\n",
        "c=0\n",
        "\n",
        "t1=time.perf_counter()\n",
        "for i in range(len(df_fkrt)):\n",
        "  try:\n",
        "    #To store the brand name of the product from Flipkart\n",
        "    tag1=df_fkrt.loc[i,\"brand\"]\n",
        "\n",
        "    #To get all the products from Amazon that match the brand name\n",
        "    amz1=df_amzn[df_amzn[\"brand\"]==tag1]\n",
        "\n",
        "    #To store the Product category of the product from Flipkart\n",
        "    tag1=df_fkrt.loc[i,\"product_category_1\"]\n",
        "\n",
        "    #To get all the products from Amazon that match the Product category \n",
        "    amz1=amz1[amz1[\"product_category_1\"]==tag1]\n",
        "\n",
        "    #To store the index of the matched products\n",
        "    idx=[i for i in amz1.index]\n",
        "\n",
        "    #To find the embeddings of the matched products\n",
        "    embs=embeddings[idx]\n",
        "    amz1.reset_index(drop=True,inplace=True)\n",
        "\n",
        "    #To store the description of the product from Flipkart\n",
        "    l_tag=df_fkrt.loc[i,\"description\"]\n",
        "    embs=np.vstack((model.encode(l_tag),embs))\n",
        "\n",
        "    #Calculating the cosine similarity of the product with Amazon products\n",
        "    cs=cosine_similarity([embs[0]],embs[1:])\n",
        "    cs=cs[0]\n",
        "    k=np.argmax(cs)\n",
        "\n",
        "    #To store the product name of the Flipkart item\n",
        "    fk_name=df_fkrt.loc[i,\"product_name\"]\n",
        "\n",
        "    #To store the retail of the Flipkart item\n",
        "    fk_ret=df_fkrt.loc[i,\"retail_price\"]\n",
        "\n",
        "    #To store the discounted price of the Flipkart item\n",
        "    fk_dis=df_fkrt.loc[i,\"discounted_price\"]\n",
        "\n",
        "    #To store the product name of the Amazon item\n",
        "    amz_name=amz1.loc[k,\"product_name\"]\n",
        "\n",
        "    #To store the retail price of the Amazon item\n",
        "    amz_ret=amz1.loc[k,\"retail_price\"]\n",
        "\n",
        "    #To store the discounted price of the Amazon item\n",
        "    amz_dis=amz1.loc[k,\"discounted_price\"]\n",
        "\n",
        "    \n",
        "    res.loc[c]=[fk_name,fk_ret,fk_dis,amz_name,amz_ret,amz_dis]\n",
        "    c+=1\n",
        "  except:\n",
        "    pass\n",
        "t2=time.perf_counter()\n",
        "print(np.round((t2-t1)/60,2),\" minutes\")\n"
      ],
      "metadata": {
        "colab": {
          "base_uri": "https://localhost:8080/"
        },
        "id": "w4PN7hbTrlS0",
        "outputId": "9b40fd36-0520-459e-d688-d1c97cfdbc3c"
      },
      "execution_count": null,
      "outputs": [
        {
          "output_type": "stream",
          "name": "stdout",
          "text": [
            "5.82  minutes\n"
          ]
        }
      ]
    },
    {
      "cell_type": "code",
      "source": [
        "res"
      ],
      "metadata": {
        "id": "W0Q-41IwBUyA"
      },
      "execution_count": null,
      "outputs": []
    },
    {
      "cell_type": "code",
      "source": [
        "res.to_csv(\"Approach 1.csv\")"
      ],
      "metadata": {
        "id": "lphQd-rPRN-U"
      },
      "execution_count": null,
      "outputs": []
    },
    {
      "cell_type": "code",
      "source": [],
      "metadata": {
        "id": "TV5aZqdBjUB_"
      },
      "execution_count": null,
      "outputs": []
    },
    {
      "cell_type": "markdown",
      "source": [
        "<h1><b>Approach 2</b></h1>"
      ],
      "metadata": {
        "id": "QPbZDIGq5_dX"
      }
    },
    {
      "cell_type": "markdown",
      "source": [
        "<b>Product Matching via Image Similarity</b>"
      ],
      "metadata": {
        "id": "pXGxZnJs537I"
      }
    },
    {
      "cell_type": "code",
      "source": [
        "!pip install sewar"
      ],
      "metadata": {
        "colab": {
          "base_uri": "https://localhost:8080/"
        },
        "id": "JMk06ixi9Kov",
        "outputId": "fb114718-e5d9-44a6-eb61-2c1d69cd4eba"
      },
      "execution_count": 12,
      "outputs": [
        {
          "output_type": "stream",
          "name": "stdout",
          "text": [
            "Looking in indexes: https://pypi.org/simple, https://us-python.pkg.dev/colab-wheels/public/simple/\n",
            "Requirement already satisfied: sewar in /usr/local/lib/python3.7/dist-packages (0.4.5)\n",
            "Requirement already satisfied: Pillow in /usr/local/lib/python3.7/dist-packages (from sewar) (7.1.2)\n",
            "Requirement already satisfied: numpy in /usr/local/lib/python3.7/dist-packages (from sewar) (1.21.6)\n",
            "Requirement already satisfied: scipy in /usr/local/lib/python3.7/dist-packages (from sewar) (1.7.3)\n"
          ]
        }
      ]
    },
    {
      "cell_type": "code",
      "source": [
        "import re\n",
        "from PIL import Image\n",
        "import requests\n",
        "from io import BytesIO\n",
        "import numpy as np\n",
        "import cv2\n",
        "from sewar.full_ref import mse, rmse, psnr, uqi, ssim, ergas, scc, rase, sam, msssim, vifp\n",
        "\n",
        "\n",
        "#Function to convert url of the images into OpenCV image files\n",
        "def url_to_image(url):\n",
        "  response = requests.get(url)\n",
        "  image = Image.open(BytesIO(response.content)).convert(\"RGB\")\n",
        "  open_cv_image = np.array(image) \n",
        "  open_cv_image = open_cv_image[:, :, ::-1].copy()\n",
        "  return open_cv_image"
      ],
      "metadata": {
        "id": "5YdJ17818BNm"
      },
      "execution_count": 13,
      "outputs": []
    },
    {
      "cell_type": "code",
      "source": [
        "res=pd.DataFrame(columns=[\"Product name in Flipkart\",\"Retail Price in Flipkart\",\"Discounted price in Flipkart\",\n",
        "                          \"Product name in Amazon\",\"Retail Price in Amazon\",\"Discounted price in Amazon\"])"
      ],
      "metadata": {
        "id": "CcW3Nm6MGfx3"
      },
      "execution_count": 14,
      "outputs": []
    },
    {
      "cell_type": "code",
      "source": [
        "c=0\n",
        "t1=time.perf_counter()\n",
        "for i in range(len(df_fkrt)):\n",
        "  scores=[]\n",
        "  try:\n",
        "\n",
        "    #Storing the url of the Flipkart product image\n",
        "    fk_img=re.findall(\"http:\\S+.jpeg\",df_fkrt.loc[i,\"image\"])\n",
        "\n",
        "    #Storing the image converted from url\n",
        "    fk_img=url_to_image(fk_img[0])\n",
        "\n",
        "    #To store the brand name of the product from Flipkart\n",
        "    tag1=df_fkrt.loc[i,\"brand\"]\n",
        "\n",
        "    #To get all the products from Amazon that match the brand name\n",
        "    amz1=df_amzn[df_amzn[\"brand\"]==tag1]\n",
        "\n",
        "    #To store the product category of the product from Flipkart\n",
        "    tag1=df_fkrt.loc[i,\"product_category_1\"]\n",
        "\n",
        "    #To get all the products from Amazon that match the product category\n",
        "    amz1=amz1[amz1[\"product_category_1\"]==tag1]\n",
        "\n",
        "    #To store the second product category of the product from Flipkart    \n",
        "    tag1=df_fkrt.loc[i,\"product_category_2\"]\n",
        "\n",
        "    #To get all the products from Amazon that match the second product category\n",
        "    amz1=amz1[amz1[\"product_category_2\"]==tag1]\n",
        "\n",
        "    amz1.reset_index(drop=True,inplace=True)\n",
        "\n",
        "    for j in range(len(amz1)):\n",
        "\n",
        "      #Storing the url of the Amazon product image\n",
        "      img=re.findall(\"http:\\S+.jpeg\",amz1.loc[j,\"image\"])[0]\n",
        "\n",
        "      #Storing the image converted from url\n",
        "      image_from_url=url_to_image(img)\n",
        "\n",
        "      #To store the height and width of the Amazon product image\n",
        "      w,h=image_from_url.shape[:2]\n",
        "\n",
        "      #Resizing the Amazon image to match the Flipkart image for finding the image distance\n",
        "      fk_img=cv2.resize(fk_img,(h,w))\n",
        "\n",
        "      #Image distance\n",
        "      scores.append(mse(fk_img,image_from_url))\n",
        "    \n",
        "    #Minimum distance means best match\n",
        "    idx=np.argmin(scores)\n",
        "\n",
        "    fk_name=df_fkrt.loc[i,\"product_name\"]\n",
        "\n",
        "    fk_ret=df_fkrt.loc[i,\"retail_price\"]\n",
        "\n",
        "    fk_dis=df_fkrt.loc[i,\"discounted_price\"]\n",
        "\n",
        "    amz_name=amz1.loc[idx,\"product_name\"]\n",
        "\n",
        "    amz_ret=amz1.loc[idx,\"retail_price\"]\n",
        "\n",
        "    amz_dis=amz1.loc[idx,\"discounted_price\"]\n",
        "\n",
        "    res.loc[c]=[fk_name,fk_ret,fk_dis,amz_name,amz_ret,amz_dis]\n",
        "    c+=1\n",
        "  except:\n",
        "    pass\n",
        "t2=time.perf_counter() \n",
        "print(np.round((t2-t1)/60,2),\" minutes\")"
      ],
      "metadata": {
        "id": "NHC-8JFTI8Qn"
      },
      "execution_count": null,
      "outputs": []
    },
    {
      "cell_type": "code",
      "source": [
        "res"
      ],
      "metadata": {
        "id": "iKfmpUEQHs-p"
      },
      "execution_count": null,
      "outputs": []
    },
    {
      "cell_type": "code",
      "source": [
        "res.to_csv('Approach 2.csv')"
      ],
      "metadata": {
        "id": "Z5-YYxB2muzQ"
      },
      "execution_count": null,
      "outputs": []
    },
    {
      "cell_type": "code",
      "source": [
        "\n"
      ],
      "metadata": {
        "id": "nj8RGaO_xOom"
      },
      "execution_count": null,
      "outputs": []
    }
  ]
}